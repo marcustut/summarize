{
 "cells": [
  {
   "cell_type": "markdown",
   "source": [
    "# Abstractive Text Summarization Using BART (bart-large-cnn)\r\n",
    "_By Ling Li Ya_\r\n",
    "\r\n",
    "References:\r\n",
    "1. [Long Form Summarization With Hugging Face](https://github.com/nicknochnack/Longform-Summarization-with-Hugging-Face/blob/main/LongSummarization.ipynb)\r\n",
    "2. [BART: Denoising Sequence-to-Sequence Pre-training for Natural Language Generation, Translation, and Comprehension](https://arxiv.org/abs/1910.13461)\r\n",
    "\r\n",
    "## 1. Install and Import Dependencies\r\n",
    "Install `pytorch`"
   ],
   "metadata": {}
  },
  {
   "cell_type": "code",
   "execution_count": 1,
   "source": [
    "!pip3 install torch==1.9.0+cu111 torchvision==0.10.0+cu111 torchaudio==0.9.0 -f https://download.pytorch.org/whl/torch_stable.html"
   ],
   "outputs": [
    {
     "output_type": "stream",
     "name": "stdout",
     "text": [
      "Looking in links: https://download.pytorch.org/whl/torch_stable.html\n",
      "Requirement already satisfied: torch==1.9.0+cu111 in c:\\users\\liana\\appdata\\local\\programs\\python\\python38\\lib\\site-packages (1.9.0+cu111)\n",
      "Requirement already satisfied: torchvision==0.10.0+cu111 in c:\\users\\liana\\appdata\\local\\programs\\python\\python38\\lib\\site-packages (0.10.0+cu111)\n",
      "Requirement already satisfied: torchaudio==0.9.0 in c:\\users\\liana\\appdata\\local\\programs\\python\\python38\\lib\\site-packages (0.9.0)\n",
      "Requirement already satisfied: typing-extensions in c:\\users\\liana\\appdata\\local\\programs\\python\\python38\\lib\\site-packages (from torch==1.9.0+cu111) (3.10.0.0)\n",
      "Requirement already satisfied: numpy in c:\\users\\liana\\appdata\\local\\programs\\python\\python38\\lib\\site-packages (from torchvision==0.10.0+cu111) (1.21.2)\n",
      "Requirement already satisfied: pillow>=5.3.0 in c:\\users\\liana\\appdata\\local\\programs\\python\\python38\\lib\\site-packages (from torchvision==0.10.0+cu111) (8.3.1)\n"
     ]
    }
   ],
   "metadata": {}
  },
  {
   "cell_type": "markdown",
   "source": [
    "Install `transformers` to use `pipeline`"
   ],
   "metadata": {}
  },
  {
   "cell_type": "code",
   "execution_count": 2,
   "source": [
    "!pip install transformers"
   ],
   "outputs": [
    {
     "output_type": "stream",
     "name": "stdout",
     "text": [
      "Requirement already satisfied: transformers in c:\\users\\liana\\appdata\\local\\programs\\python\\python38\\lib\\site-packages (4.9.2)\n",
      "Requirement already satisfied: numpy>=1.17 in c:\\users\\liana\\appdata\\local\\programs\\python\\python38\\lib\\site-packages (from transformers) (1.21.2)\n",
      "Requirement already satisfied: pyyaml>=5.1 in c:\\users\\liana\\appdata\\local\\programs\\python\\python38\\lib\\site-packages (from transformers) (5.4.1)\n",
      "Requirement already satisfied: requests in c:\\users\\liana\\appdata\\local\\programs\\python\\python38\\lib\\site-packages (from transformers) (2.26.0)\n",
      "Requirement already satisfied: tqdm>=4.27 in c:\\users\\liana\\appdata\\local\\programs\\python\\python38\\lib\\site-packages (from transformers) (4.62.1)\n",
      "Requirement already satisfied: regex!=2019.12.17 in c:\\users\\liana\\appdata\\local\\programs\\python\\python38\\lib\\site-packages (from transformers) (2021.8.3)\n",
      "Requirement already satisfied: sacremoses in c:\\users\\liana\\appdata\\local\\programs\\python\\python38\\lib\\site-packages (from transformers) (0.0.45)\n",
      "Requirement already satisfied: filelock in c:\\users\\liana\\appdata\\local\\programs\\python\\python38\\lib\\site-packages (from transformers) (3.0.12)\n",
      "Requirement already satisfied: tokenizers<0.11,>=0.10.1 in c:\\users\\liana\\appdata\\local\\programs\\python\\python38\\lib\\site-packages (from transformers) (0.10.3)\n",
      "Requirement already satisfied: packaging in c:\\users\\liana\\appdata\\local\\programs\\python\\python38\\lib\\site-packages (from transformers) (21.0)\n",
      "Requirement already satisfied: huggingface-hub==0.0.12 in c:\\users\\liana\\appdata\\local\\programs\\python\\python38\\lib\\site-packages (from transformers) (0.0.12)\n",
      "Requirement already satisfied: typing-extensions in c:\\users\\liana\\appdata\\local\\programs\\python\\python38\\lib\\site-packages (from huggingface-hub==0.0.12->transformers) (3.10.0.0)\n",
      "Requirement already satisfied: pyparsing>=2.0.2 in c:\\users\\liana\\appdata\\local\\programs\\python\\python38\\lib\\site-packages (from packaging->transformers) (2.4.7)\n",
      "Requirement already satisfied: colorama in c:\\users\\liana\\appdata\\local\\programs\\python\\python38\\lib\\site-packages (from tqdm>=4.27->transformers) (0.4.4)\n",
      "Requirement already satisfied: certifi>=2017.4.17 in c:\\users\\liana\\appdata\\local\\programs\\python\\python38\\lib\\site-packages (from requests->transformers) (2021.5.30)\n",
      "Requirement already satisfied: idna<4,>=2.5 in c:\\users\\liana\\appdata\\local\\programs\\python\\python38\\lib\\site-packages (from requests->transformers) (3.2)\n",
      "Requirement already satisfied: urllib3<1.27,>=1.21.1 in c:\\users\\liana\\appdata\\local\\programs\\python\\python38\\lib\\site-packages (from requests->transformers) (1.26.6)\n",
      "Requirement already satisfied: charset-normalizer~=2.0.0 in c:\\users\\liana\\appdata\\local\\programs\\python\\python38\\lib\\site-packages (from requests->transformers) (2.0.4)\n",
      "Requirement already satisfied: six in c:\\users\\liana\\appdata\\local\\programs\\python\\python38\\lib\\site-packages (from sacremoses->transformers) (1.16.0)\n",
      "Requirement already satisfied: joblib in c:\\users\\liana\\appdata\\local\\programs\\python\\python38\\lib\\site-packages (from sacremoses->transformers) (1.0.1)\n",
      "Requirement already satisfied: click in c:\\users\\liana\\appdata\\local\\programs\\python\\python38\\lib\\site-packages (from sacremoses->transformers) (8.0.1)\n"
     ]
    }
   ],
   "metadata": {}
  },
  {
   "cell_type": "markdown",
   "source": [
    "Install `bs4` to use `BeautifulSoup`"
   ],
   "metadata": {}
  },
  {
   "cell_type": "code",
   "execution_count": 3,
   "source": [
    "!pip install bs4"
   ],
   "outputs": [
    {
     "output_type": "stream",
     "name": "stdout",
     "text": [
      "Requirement already satisfied: bs4 in c:\\users\\liana\\appdata\\local\\programs\\python\\python38\\lib\\site-packages (0.0.1)\n",
      "Requirement already satisfied: beautifulsoup4 in c:\\users\\liana\\appdata\\local\\programs\\python\\python38\\lib\\site-packages (from bs4) (4.9.3)\n",
      "Requirement already satisfied: soupsieve>1.2 in c:\\users\\liana\\appdata\\local\\programs\\python\\python38\\lib\\site-packages (from beautifulsoup4->bs4) (2.2.1)\n"
     ]
    }
   ],
   "metadata": {}
  },
  {
   "cell_type": "code",
   "execution_count": 2,
   "source": [
    "from transformers import pipeline\r\n",
    "from bs4 import BeautifulSoup\r\n",
    "import requests"
   ],
   "outputs": [
    {
     "output_type": "stream",
     "name": "stderr",
     "text": [
      "C:\\Users\\liana\\AppData\\Local\\Programs\\Python\\Python38\\lib\\site-packages\\torchaudio\\backend\\utils.py:67: UserWarning: No audio backend is available.\n",
      "  warnings.warn('No audio backend is available.')\n"
     ]
    }
   ],
   "metadata": {}
  },
  {
   "cell_type": "markdown",
   "source": [
    "## 2. Setup Generator\r\n",
    "Get pipeline text summarization utility"
   ],
   "metadata": {}
  },
  {
   "cell_type": "code",
   "execution_count": 4,
   "source": [
    "summarizer = pipeline(\"summarization\", model=\"t5-base\", tokenizer=\"t5-base\", framework=\"pt\")"
   ],
   "outputs": [
    {
     "output_type": "stream",
     "name": "stderr",
     "text": [
      "Downloading: 100%|██████████| 892M/892M [01:23<00:00, 10.7MB/s]\n",
      "Downloading: 100%|██████████| 792k/792k [00:01<00:00, 620kB/s]\n",
      "Downloading: 100%|██████████| 1.39M/1.39M [00:01<00:00, 884kB/s]\n"
     ]
    },
    {
     "output_type": "execute_result",
     "data": {
      "text/plain": [
       "<transformers.pipelines.text2text_generation.SummarizationPipeline at 0x2127e24bfd0>"
      ]
     },
     "metadata": {},
     "execution_count": 4
    }
   ],
   "metadata": {}
  },
  {
   "cell_type": "markdown",
   "source": [
    "## 3. Process Input Text\r\n",
    "Get input from website URLs"
   ],
   "metadata": {}
  },
  {
   "cell_type": "code",
   "execution_count": 5,
   "source": [
    "URL = 'https://en.wikipedia.org/wiki/Rococo'"
   ],
   "outputs": [],
   "metadata": {}
  },
  {
   "cell_type": "markdown",
   "source": [
    "Get HTTP URL using `requests`"
   ],
   "metadata": {}
  },
  {
   "cell_type": "code",
   "execution_count": 6,
   "source": [
    "r = requests.get(URL)"
   ],
   "outputs": [],
   "metadata": {}
  },
  {
   "cell_type": "markdown",
   "source": [
    "Parse HTML body returned from the URL and format it to have a better readability"
   ],
   "metadata": {}
  },
  {
   "cell_type": "code",
   "execution_count": 7,
   "source": [
    "soup = BeautifulSoup(r.text, 'html.parser')"
   ],
   "outputs": [],
   "metadata": {}
  },
  {
   "cell_type": "markdown",
   "source": [
    "Find all text chunks with 'h1' and 'p' tags"
   ],
   "metadata": {}
  },
  {
   "cell_type": "code",
   "execution_count": 8,
   "source": [
    "results = soup.find_all(['h1', 'p'])\r\n",
    "results[:5]"
   ],
   "outputs": [
    {
     "output_type": "execute_result",
     "data": {
      "text/plain": [
       "[<h1 class=\"firstHeading\" id=\"firstHeading\">Rococo</h1>,\n",
       " <p class=\"mw-empty-elt\">\n",
       " </p>,\n",
       " <p><b>Rococo</b> (<span class=\"rt-commentedText nowrap\"><span class=\"IPA nopopups noexcerpt\"><a href=\"/wiki/Help:IPA/English\" title=\"Help:IPA/English\">/<span style=\"border-bottom:1px dotted\"><span title=\"'r' in 'rye'\">r</span><span title=\"/ə/: 'a' in 'about'\">ə</span><span title=\"/ˈ/: primary stress follows\">ˈ</span><span title=\"'k' in 'kind'\">k</span><span title=\"/oʊ/: 'o' in 'code'\">oʊ</span><span title=\"'k' in 'kind'\">k</span><span title=\"/oʊ/: 'o' in 'code'\">oʊ</span></span>/</a></span></span>, <small>also</small> <span class=\"rt-commentedText nowrap\"><small><a href=\"/wiki/American_English\" title=\"American English\">US</a>: </small><span class=\"IPA nopopups noexcerpt\"><a href=\"/wiki/Help:IPA/English\" title=\"Help:IPA/English\">/<span style=\"border-bottom:1px dotted\"><span title=\"/ˌ/: secondary stress follows\">ˌ</span><span title=\"'r' in 'rye'\">r</span><span title=\"/oʊ/: 'o' in 'code'\">oʊ</span><span title=\"'k' in 'kind'\">k</span><span title=\"/ə/: 'a' in 'about'\">ə</span><span title=\"/ˈ/: primary stress follows\">ˈ</span><span title=\"'k' in 'kind'\">k</span><span title=\"/oʊ/: 'o' in 'code'\">oʊ</span></span>/</a></span></span>), less commonly <b>Roccoco</b> or <b>Late Baroque</b>, is an exceptionally ornamental and theatrical style of architecture, art and decoration which combines asymmetry, scrolling curves, gilding, white and pastel colors, sculpted molding, and <i><a href=\"/wiki/Trompe-l%27%C5%93il\" title=\"Trompe-l'œil\">trompe-l'œil</a></i> frescoes to create surprise and the illusion of motion and drama.  It is often described as the final expression of the <a class=\"mw-redirect\" href=\"/wiki/Baroque_art\" title=\"Baroque art\">Baroque</a> movement.<sup class=\"reference\" id=\"cite_ref-FOOTNOTEOwens201492_1-0\"><a href=\"#cite_note-FOOTNOTEOwens201492-1\">[1]</a></sup>\n",
       " </p>,\n",
       " <p>The Rococo style began in France in the 1730s as a reaction against the more formal and geometric <a href=\"/wiki/Style_Louis_XIV\" title=\"Style Louis XIV\">Style Louis XIV</a>. It was known as the <i>style <a href=\"/wiki/Rocaille\" title=\"Rocaille\">rocaille</a></i>, or <i>rocaille style</i>.<sup class=\"reference\" id=\"cite_ref-FOOTNOTEDucher1988136_2-0\"><a href=\"#cite_note-FOOTNOTEDucher1988136-2\">[2]</a></sup> It soon spread to other parts of Europe, particularly northern Italy, Austria, southern Germany, Central Europe and Russia.<sup class=\"reference\" id=\"cite_ref-3\"><a href=\"#cite_note-3\">[3]</a></sup> It also came to influence the other arts, particularly sculpture, furniture, silverware, glassware, painting, music, and theatre.<sup class=\"reference\" id=\"cite_ref-4\"><a href=\"#cite_note-4\">[4]</a></sup> Although originally a secular style primarily used for interiors of private residences the Rococo had a spiritual aspect to it which led to its widespread use in church interiors, particularly in Central Europe, Portugal, and South America.<sup class=\"reference\" id=\"cite_ref-5\"><a href=\"#cite_note-5\">[5]</a></sup>\n",
       " </p>,\n",
       " <p>The word <i>rococo</i> was first used as a humorous variation of the word <i><a href=\"/wiki/Rocaille\" title=\"Rocaille\">rocaille</a></i>.<sup class=\"reference\" id=\"cite_ref-6\"><a href=\"#cite_note-6\">[6]</a></sup><sup class=\"reference\" id=\"cite_ref-7\"><a href=\"#cite_note-7\">[7]</a></sup> Rocaille was originally a method of decoration, using pebbles, seashells and cement, which was often used to decorate grottoes and fountains since the Renaissance.<sup class=\"reference\" id=\"cite_ref-8\"><a href=\"#cite_note-8\">[8]</a></sup><sup class=\"reference\" id=\"cite_ref-9\"><a href=\"#cite_note-9\">[9]</a></sup> In the late 17th and early 18th century rocaille became the term for a kind of decorative motif or ornament that appeared in the late <a href=\"/wiki/Style_Louis_XIV\" title=\"Style Louis XIV\">Style Louis XIV</a>, in the form of a seashell interlaced with <a href=\"/wiki/Acanthus_(plant)\" title=\"Acanthus (plant)\">acanthus</a> leaves. In 1736 the designer and jeweler Jean Mondon published the <i>Premier Livre de forme rocquaille et cartel</i>, a collection of designs for ornaments of furniture and interior decoration. It was the first appearance in print of the term \"rocaille\" to designate the style.<sup class=\"reference\" id=\"cite_ref-10\"><a href=\"#cite_note-10\">[10]</a></sup> The carved or molded seashell motif was combined with palm leaves or twisting vines to decorate doorways, furniture, wall panels and other architectural elements.<sup class=\"reference\" id=\"cite_ref-11\"><a href=\"#cite_note-11\">[11]</a></sup>\n",
       " </p>]"
      ]
     },
     "metadata": {},
     "execution_count": 8
    }
   ],
   "metadata": {}
  },
  {
   "cell_type": "markdown",
   "source": [
    "Text enclosed within the HTML tags are selected and joined together"
   ],
   "metadata": {}
  },
  {
   "cell_type": "code",
   "execution_count": 9,
   "source": [
    "text = [result.text for result in results]\r\n",
    "ARTICLE = ' '.join(text)\r\n",
    "ARTICLE[0:1000]"
   ],
   "outputs": [
    {
     "output_type": "execute_result",
     "data": {
      "text/plain": [
       "\"Rococo \\n Rococo (/rəˈkoʊkoʊ/, also US: /ˌroʊkəˈkoʊ/), less commonly Roccoco or Late Baroque, is an exceptionally ornamental and theatrical style of architecture, art and decoration which combines asymmetry, scrolling curves, gilding, white and pastel colors, sculpted molding, and trompe-l'œil frescoes to create surprise and the illusion of motion and drama.  It is often described as the final expression of the Baroque movement.[1]\\n The Rococo style began in France in the 1730s as a reaction against the more formal and geometric Style Louis XIV. It was known as the style rocaille, or rocaille style.[2] It soon spread to other parts of Europe, particularly northern Italy, Austria, southern Germany, Central Europe and Russia.[3] It also came to influence the other arts, particularly sculpture, furniture, silverware, glassware, painting, music, and theatre.[4] Although originally a secular style primarily used for interiors of private residences the Rococo had a spiritual aspect to it whic\""
      ]
     },
     "metadata": {},
     "execution_count": 9
    }
   ],
   "metadata": {}
  },
  {
   "cell_type": "markdown",
   "source": [
    "## 4. Chunk text"
   ],
   "metadata": {}
  },
  {
   "cell_type": "markdown",
   "source": [
    "Append <eos> to punctuations that marks the end of a sentence\r\n",
    "<br />\r\n",
    "Without the <eos> tag, sentences will be split without any punctuation"
   ],
   "metadata": {}
  },
  {
   "cell_type": "code",
   "execution_count": 10,
   "source": [
    "ARTICLE = ARTICLE.replace('.', '.<eos>')\r\n",
    "ARTICLE = ARTICLE.replace('!', '!<eos>')\r\n",
    "ARTICLE = ARTICLE.replace('?', '?<eos>')\r\n",
    "sentences = ARTICLE.split('<eos>')\r\n",
    "sentences[:10]"
   ],
   "outputs": [
    {
     "output_type": "execute_result",
     "data": {
      "text/plain": [
       "[\"Rococo \\n Rococo (/rəˈkoʊkoʊ/, also US: /ˌroʊkəˈkoʊ/), less commonly Roccoco or Late Baroque, is an exceptionally ornamental and theatrical style of architecture, art and decoration which combines asymmetry, scrolling curves, gilding, white and pastel colors, sculpted molding, and trompe-l'œil frescoes to create surprise and the illusion of motion and drama.\",\n",
       " '  It is often described as the final expression of the Baroque movement.',\n",
       " '[1]\\n The Rococo style began in France in the 1730s as a reaction against the more formal and geometric Style Louis XIV.',\n",
       " ' It was known as the style rocaille, or rocaille style.',\n",
       " '[2] It soon spread to other parts of Europe, particularly northern Italy, Austria, southern Germany, Central Europe and Russia.',\n",
       " '[3] It also came to influence the other arts, particularly sculpture, furniture, silverware, glassware, painting, music, and theatre.',\n",
       " '[4] Although originally a secular style primarily used for interiors of private residences the Rococo had a spiritual aspect to it which led to its widespread use in church interiors, particularly in Central Europe, Portugal, and South America.',\n",
       " '[5]\\n The word rococo was first used as a humorous variation of the word rocaille.',\n",
       " '[6][7] Rocaille was originally a method of decoration, using pebbles, seashells and cement, which was often used to decorate grottoes and fountains since the Renaissance.',\n",
       " '[8][9] In the late 17th and early 18th century rocaille became the term for a kind of decorative motif or ornament that appeared in the late Style Louis XIV, in the form of a seashell interlaced with acanthus leaves.']"
      ]
     },
     "metadata": {},
     "execution_count": 10
    }
   ],
   "metadata": {}
  },
  {
   "cell_type": "markdown",
   "source": [
    "Limit the size of text in a chunk so that it is smaller than 500 words\r\n",
    "<br />\r\n",
    "Split sentences into words (2D array)\r\n",
    "<br />\r\n",
    "This is to avoid the error as shown below\r\n",
    "```py\r\n",
    "Token indices sequence length is longer than the specified maximum sequence length for this model (1024). Running this sequence through the model will result in indexing errors.\r\n",
    "```"
   ],
   "metadata": {}
  },
  {
   "cell_type": "code",
   "execution_count": 11,
   "source": [
    "max_chunk = 500\r\n",
    "current_chunk = 0\r\n",
    "chunks = []\r\n",
    "\r\n",
    "for sentence in sentences:\r\n",
    "    if len(chunks) == current_chunk + 1:\r\n",
    "        # Check if the chunk is less than 500 words\r\n",
    "        if len(chunks[current_chunk]) + len(sentence.split(' ')) <= max_chunk:\r\n",
    "            chunks[current_chunk].extend(sentence.split(' '))\r\n",
    "        # Next chunk\r\n",
    "        else:\r\n",
    "            current_chunk += 1\r\n",
    "            chunks.append(sentence.split(' '))\r\n",
    "    else:\r\n",
    "        print(current_chunk)\r\n",
    "        chunks.append(sentence.split(' '))"
   ],
   "outputs": [
    {
     "output_type": "stream",
     "name": "stdout",
     "text": [
      "0\n"
     ]
    }
   ],
   "metadata": {}
  },
  {
   "cell_type": "markdown",
   "source": [
    "Append words into sentences again where each chunk is ensured to have less than 500 words"
   ],
   "metadata": {}
  },
  {
   "cell_type": "code",
   "execution_count": 12,
   "source": [
    "for chunk_id in range (len(chunks)):\r\n",
    "    chunks[chunk_id] = ''.join(chunks[chunk_id])\r\n",
    "\r\n",
    "len(chunks[0].split(' '))"
   ],
   "outputs": [
    {
     "output_type": "execute_result",
     "data": {
      "text/plain": [
       "1"
      ]
     },
     "metadata": {},
     "execution_count": 12
    }
   ],
   "metadata": {}
  },
  {
   "cell_type": "markdown",
   "source": [
    "## 4. Summarise Text\r\n",
    "\r\n",
    "Summarise based on each chunk"
   ],
   "metadata": {}
  },
  {
   "cell_type": "code",
   "execution_count": 14,
   "source": [
    "res = summarizer(chunks)\r\n",
    "res"
   ],
   "outputs": [
    {
     "output_type": "error",
     "ename": "NameError",
     "evalue": "name 'summarizer' is not defined",
     "traceback": [
      "\u001b[1;31m---------------------------------------------------------------------------\u001b[0m",
      "\u001b[1;31mNameError\u001b[0m                                 Traceback (most recent call last)",
      "\u001b[1;32m~\\AppData\\Local\\Temp/ipykernel_22300/1126467410.py\u001b[0m in \u001b[0;36m<module>\u001b[1;34m\u001b[0m\n\u001b[1;32m----> 1\u001b[1;33m \u001b[0mres\u001b[0m \u001b[1;33m=\u001b[0m \u001b[0msummarizer\u001b[0m\u001b[1;33m(\u001b[0m\u001b[0mchunks\u001b[0m\u001b[1;33m)\u001b[0m\u001b[1;33m\u001b[0m\u001b[1;33m\u001b[0m\u001b[0m\n\u001b[0m\u001b[0;32m      2\u001b[0m \u001b[0mres\u001b[0m\u001b[1;33m\u001b[0m\u001b[1;33m\u001b[0m\u001b[0m\n",
      "\u001b[1;31mNameError\u001b[0m: name 'summarizer' is not defined"
     ]
    }
   ],
   "metadata": {}
  }
 ],
 "metadata": {
  "orig_nbformat": 4,
  "language_info": {
   "name": "python",
   "version": "3.8.10",
   "mimetype": "text/x-python",
   "codemirror_mode": {
    "name": "ipython",
    "version": 3
   },
   "pygments_lexer": "ipython3",
   "nbconvert_exporter": "python",
   "file_extension": ".py"
  },
  "kernelspec": {
   "name": "python3",
   "display_name": "Python 3.8.10 64-bit"
  },
  "interpreter": {
   "hash": "37833eaa7c79fc29fc64cdd65cef9244dd84f1f67a5ba8cd87f16f157512cb2c"
  }
 },
 "nbformat": 4,
 "nbformat_minor": 2
}