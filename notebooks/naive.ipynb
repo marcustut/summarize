{
 "cells": [
  {
   "cell_type": "code",
   "execution_count": 1,
   "source": [
    "!pip install nltk"
   ],
   "outputs": [
    {
     "output_type": "stream",
     "name": "stdout",
     "text": [
      "Requirement already satisfied: nltk in c:\\users\\marcus\\projects\\summarize\\venv\\lib\\site-packages (3.6.2)\n",
      "Requirement already satisfied: click in c:\\users\\marcus\\projects\\summarize\\venv\\lib\\site-packages (from nltk) (7.1.2)\n",
      "Requirement already satisfied: tqdm in c:\\users\\marcus\\projects\\summarize\\venv\\lib\\site-packages (from nltk) (4.62.1)\n",
      "Requirement already satisfied: joblib in c:\\users\\marcus\\projects\\summarize\\venv\\lib\\site-packages (from nltk) (1.0.1)\n",
      "Requirement already satisfied: regex in c:\\users\\marcus\\projects\\summarize\\venv\\lib\\site-packages (from nltk) (2021.8.3)\n",
      "Requirement already satisfied: colorama in c:\\users\\marcus\\projects\\summarize\\venv\\lib\\site-packages (from tqdm->nltk) (0.4.4)\n"
     ]
    }
   ],
   "metadata": {}
  },
  {
   "cell_type": "code",
   "execution_count": 2,
   "source": [
    "import nltk\r\n",
    "import sys\r\n",
    "from nltk.corpus import stopwords\r\n",
    "from nltk.stem import PorterStemmer\r\n",
    "from typing import List\r\n",
    "\r\n",
    "\r\n",
    "def summarize(text: str) -> str:\r\n",
    "    # Tokenize the text by sentences\r\n",
    "    sentences = nltk.sent_tokenize(text)\r\n",
    "\r\n",
    "    # Calculate the scores of each sentence\r\n",
    "    sentence_scores = _calculate_sentence_scores(\r\n",
    "        sentences, _create_dictionary_table(text))\r\n",
    "\r\n",
    "    # Get the average score\r\n",
    "    average_scores = _calculate_average_score(sentence_scores)\r\n",
    "\r\n",
    "    # Compare each sentence to the average score\r\n",
    "    # and get the highest score sentences\r\n",
    "    summary = _get_article_summary(sentences, sentence_scores, average_scores)\r\n",
    "\r\n",
    "    return summary\r\n",
    "\r\n",
    "\r\n",
    "def _create_dictionary_table(text: str) -> dict:\r\n",
    "\r\n",
    "    # Removing stop words\r\n",
    "    stop_words = set(stopwords.words(\"english\"))\r\n",
    "\r\n",
    "    words = nltk.word_tokenize(text)\r\n",
    "\r\n",
    "    # Reducing words to their root form\r\n",
    "    stem = PorterStemmer()\r\n",
    "\r\n",
    "    # Creating dictionary for the word frequency table\r\n",
    "    frequency_table = dict()\r\n",
    "    for wd in words:\r\n",
    "        wd = stem.stem(wd)\r\n",
    "        if wd in stop_words:\r\n",
    "            continue\r\n",
    "        if wd in frequency_table:\r\n",
    "            frequency_table[wd] += 1\r\n",
    "        else:\r\n",
    "            frequency_table[wd] = 1\r\n",
    "\r\n",
    "    return frequency_table\r\n",
    "\r\n",
    "\r\n",
    "def _calculate_sentence_scores(sentences: List[str], frequency_table: dict) -> dict:\r\n",
    "\r\n",
    "    # Algorithm for scoring a sentence by its words\r\n",
    "    sentence_weight = dict()\r\n",
    "\r\n",
    "    for sentence in sentences:\r\n",
    "        # sentence_wordcount = (len(nltk.word_tokenize(sentence)))\r\n",
    "        sentence_wordcount_without_stop_words = 0\r\n",
    "        for word_weight in frequency_table:\r\n",
    "            if word_weight in sentence.lower():\r\n",
    "                sentence_wordcount_without_stop_words += 1\r\n",
    "                if sentence[:7] in sentence_weight:\r\n",
    "                    sentence_weight[sentence[:7]\r\n",
    "                                    ] += frequency_table[word_weight]\r\n",
    "                else:\r\n",
    "                    sentence_weight[sentence[:7]\r\n",
    "                                    ] = frequency_table[word_weight]\r\n",
    "\r\n",
    "        sentence_weight[sentence[:7]] = sentence_weight[sentence[:7]\r\n",
    "                                                        ] / sentence_wordcount_without_stop_words\r\n",
    "\r\n",
    "    return sentence_weight\r\n",
    "\r\n",
    "\r\n",
    "def _calculate_average_score(sentence_weight: dict) -> int:\r\n",
    "\r\n",
    "    # Calculating the average score for the sentences\r\n",
    "    sum_values = 0\r\n",
    "    for entry in sentence_weight:\r\n",
    "        sum_values += sentence_weight[entry]\r\n",
    "\r\n",
    "    # Getting sentence average value from source text\r\n",
    "    average_score = (sum_values / len(sentence_weight))\r\n",
    "\r\n",
    "    return average_score\r\n",
    "\r\n",
    "\r\n",
    "def _get_article_summary(sentences: List[str], sentence_weight: dict, threshold: int) -> str:\r\n",
    "    sentence_counter = 0\r\n",
    "    article_summary = ''\r\n",
    "\r\n",
    "    for sentence in sentences:\r\n",
    "        if sentence[:7] in sentence_weight and sentence_weight[sentence[:7]] >= (threshold):\r\n",
    "            article_summary += \" \" + sentence\r\n",
    "            sentence_counter += 1\r\n",
    "\r\n",
    "    return article_summary\r\n"
   ],
   "outputs": [],
   "metadata": {}
  },
  {
   "cell_type": "code",
   "execution_count": 3,
   "source": [
    "import requests\r\n",
    "from bs4 import BeautifulSoup\r\n",
    "from typing import List\r\n",
    "\r\n",
    "def _get_html_text(url: str) -> str:\r\n",
    "    # Fetch the HTML content and return it as text\r\n",
    "    return requests.get(url).text\r\n",
    "\r\n",
    "def parse_html_to_paragraphs(url: str, tags: List[str]) -> str:\r\n",
    "    html_content = _get_html_text(url)\r\n",
    "\r\n",
    "    # Parsing the URL content and storing in a variable\r\n",
    "    parsed = BeautifulSoup(html_content, 'html.parser')\r\n",
    "\r\n",
    "    # Get all the content in the tas\r\n",
    "    paragraphs = parsed.find_all(tags)\r\n",
    "\r\n",
    "    content = ''\r\n",
    "\r\n",
    "    # Looping through the paragraphs and adding them to the variable\r\n",
    "    for paragraph in paragraphs:\r\n",
    "        content += paragraph.text\r\n",
    "\r\n",
    "    return content"
   ],
   "outputs": [],
   "metadata": {}
  },
  {
   "cell_type": "code",
   "execution_count": 4,
   "source": [
    "def summarize_url(url: str, tags: List[str] = ['p'], method: str = 'naive'):\r\n",
    "    # Get the content from the url\r\n",
    "    content = parse_html_to_paragraphs(url, tags)\r\n",
    "\r\n",
    "    # If no content is fetched\r\n",
    "    if content == \"\":\r\n",
    "        print(f\"No content of {tags} is fetched from {url}\")\r\n",
    "        sys.exit(0)\r\n",
    "\r\n",
    "    summary = \"\"\r\n",
    "\r\n",
    "    # Summarize the content\r\n",
    "    if method == \"naive\":\r\n",
    "        summary = summarize(content)\r\n",
    "\r\n",
    "    # Print the summary to stdout\r\n",
    "    print(summary)"
   ],
   "outputs": [],
   "metadata": {}
  },
  {
   "cell_type": "code",
   "execution_count": 5,
   "source": [
    "nltk.download('stopwords')"
   ],
   "outputs": [
    {
     "output_type": "stream",
     "name": "stderr",
     "text": [
      "[nltk_data] Downloading package stopwords to\n",
      "[nltk_data]     C:\\Users\\Marcus\\AppData\\Roaming\\nltk_data...\n",
      "[nltk_data]   Package stopwords is already up-to-date!\n"
     ]
    },
    {
     "output_type": "execute_result",
     "data": {
      "text/plain": [
       "True"
      ]
     },
     "metadata": {},
     "execution_count": 5
    }
   ],
   "metadata": {}
  },
  {
   "cell_type": "code",
   "execution_count": 6,
   "source": [
    "summarize_url(\"https://wikipedia.org/wiki/Rococo\", [\"h1\", \"p\"])"
   ],
   "outputs": [
    {
     "output_type": "stream",
     "name": "stdout",
     "text": [
      " It was known as the style rocaille, or rocaille style. [2] It soon spread to other parts of Europe, particularly northern Italy, Austria, southern Germany, Central Europe and Russia. [3] It also came to influence the other arts, particularly sculpture, furniture, silverware, glassware, painting, music, and theatre. [5]\n",
      "The word rococo was first used as a humorous variation of the word rocaille. [6][7] Rocaille was originally a method of decoration, using pebbles, seashells and cement, which was often used to decorate grottoes and fountains since the Renaissance. It was the first appearance in print of the term \"rocaille\" to designate the style. [10] The carved or molded seashell motif was combined with palm leaves or twisting vines to decorate doorways, furniture, wall panels and other architectural elements. It was used in 1828 for decoration \"which belonged to the style of the 18th century, overloaded with twisting ornaments.\" \"[12]\n",
      "In the 19th century, the term was used to describe architecture or music which was excessively ornamental. [13][14] Since the mid-19th century, the term has been accepted by art historians. While there is still some debate about the historical significance of the style, Rococo is now often considered as a distinct period in the development of European art. Rococo features exuberant decoration, with an abundance of curves, counter-curves, undulations and elements modeled on nature. The exteriors of Rococo buildings are often simple, while the interiors are entirely dominated by their ornament. [16] The intent was to create an impression of surprise, awe and wonder on first view. [20] The style was used particularly in salons, a new style of room designed to impress and entertain guests. The most prominent example was the salon of the Princess in Hôtel de Soubise in Paris, designed by Germain Boffrand and Charles-Joseph Natoire (1735–40). The leading furniture designers and craftsmen in the style included Juste-Aurele Meissonier, Charles Cressent, and Nicolas Pineau. An earlier celebrated Venetian painter was Giovanni Battista Piazzetta, who painted several notable church ceilings. [24]\n",
      "The Venetian Rococo also featured exceptional glassware, particularly Murano glass, often engraved and coloured, which was exported across Europe. The Rococo decorative style reached its summit in southern Germany and Austria from the 1730s until the 1770s. It was first introduced from France through the publications and works of French architects and decorators, including the sculptor Claude III Audran, the interior designer Gilles-Marie Oppenordt, the architect Germain Boffrand, the sculptor Jean Mondon, and the draftsman and engraver Pierre Lepautre. Their work had an important influence on the German Rococo style, but does not reach the level of buildings in southern Germany. It featured molding formed into curves and counter-curves, twisting and turning patterns, ceilings and walls with no right angles, and stucco foliage which seemed to be creeping up the walls and across the ceiling. It was built as a hunting lodge, with a platform on the roof for shooting pheasants. The Hall of Mirrors in the interior, by the painter and stucco sculptor Johann Baptist Zimmermann, was far more exuberant than any French Rococo. While the exterior was in more sober Baroque style, the interior, particularly the stairways and ceilings, was much lighter and decorative. In that building the stairway led the visitors up through a stucco fantasy of paintings, sculpture, ironwork and decoration, with surprising views at every turn. One of the most notable examples is the Wieskirche (1745–1754) designed by Dominikus Zimmermann. Like most of the Bavarian pilgrimage churches, the exterior is very simple, with pastel walls, and little ornament. It features an oval-shaped sanctuary, and a deambulatory in the same form, filling in the church with light from all sides. The church features, like much of the rococo architecture in Germany, a remarkable contrast between the regularity of the facade and the overabundance of decoration in the interior. [32]\n",
      "Rococo was slow in arriving in England. He designed the furniture for Hampton Court Palace (1732), Lord Burlington's Chiswick House (1729), London, Thomas Coke's Holkham Hall, Norfolk, Robert Walpole's pile at Houghton, for Devonshire House in London, and at Rousham. The Rococo began to make an appearance in England between 1740 and 1750. Unlike French designers, Chippendale did not employ marquetry or inlays in his furniture. The predominant designer of inlaid furniture were Vile and Cob, the cabinet-makers for King George III. Another important figure in British furniture was Thomas Johnson, who in 1761, very late in the period, published a catalog of Rococo furniture designs. These include furnishings based on rather fantastic Chinese and Indian motifs, including a canopy bed crowned by a Chinese pagoda (now in the Victoria and Albert Museum). The art of Boucher and other painters of the period, with its emphasis on decorative mythology and gallantry, soon inspired a reaction, and a demand for more \"noble\" themes. While the Rococo continued in Germany and Austria, the French Academy in Rome began to teach the classic style. Madame de Pompadour, the mistress of Louis XV contributed to the decline of the Rococo style. He was accompanied by several artists, including the engraver Charles-Nicolas Cochin and the architect Soufflot. Vandiéres became the Marquis of Marigny, and was named director general of the King's Buildings. Blondel decried the \"ridiculous jumble of shells, dragons, reeds, palm-trees and plants\" in contemporary interiors. In Germany, late 18th-century Rococo was ridiculed as Zopf und Perücke (\"pigtail and periwig\"), and this phase is sometimes referred to as Zopfstil. Rococo remained popular in certain German provincial states and in Italy, until the second phase of neoclassicism, \"Empire style\", arrived with Napoleonic governments and swept Rococo away. The ornamental style called rocaille emerged in France between 1710 and 1750, mostly during the regency and reign of Louis XV; the style was also called Louis Quinze. Its principal characteristics were picturesque detail, curves and counter-curves, asymmetry, and a theatrical exuberance. One of the earliest examples was the Hôtel Soubise in Paris (1704–05), with its famous oval salon decorated with paintings by Boucher, and Charles-Joseph Natoire. [36]\n",
      "The best known French furniture designer of the period was Juste-Aurèle Meissonnier (1695–1750), who was also a sculptor, painter. His work is well known today because of the enormous number of engravings made of his work which popularized the style throughout Europe. He designed works for the royal families of Poland and Portugal. Italy was another place where the Rococo flourished, both in its early and later phases. Craftsmen in Rome, Milan and Venice all produced lavishly decorated furniture and decorative items. The most extravagant rocaille forms were found in the consoles, tables designed to stand against walls. The Commodes, or chests, which had first appeared under Louis XIV, were richly decorated with rocaille ornament made of gilded bronze. Ormolu, or gilded bronze, was used by master craftsmen including Jean-Pierre Latz. Other craftsmen imitated the Japanese art of lacquered furniture, and produced commodes with Japanese motifs. Thomas Chippendale's furniture designs kept the curves and feel, but stopped short of the French heights of whimsy. The most successful exponent of British Rococo was probably Thomas Johnson, a gifted carver and furniture designer working in London in the mid-18th century. Watteau died in 1721 at the age of thirty-seven, but his work continued to have influence through the rest of the century. [37]\n",
      "The successor of Watteau and the Féte Galante in decorative painting was François Boucher (1703–1770), the favorite painter of Madame de Pompadour. His work included the sensual Toilette de Venus (1746), which became one of the best known examples of the style. In Austria and Southern Germany, Italian painting had the largest effect on the Rococo style. The most prominent painter of Bavarian rococo churches was Johann Baptist Zimmermann, who painted the ceiling of the Wieskirche (1745–1754). It was most commonly found in the interiors of churches, usually closely integrated with painting and the architecture. Religious sculpture followed the Italian baroque style, as exemplified in the theatrical altarpiece of the Karlskirche in Vienna. It was encouraged in particular by Madame de Pompadour, mistress of Louis XV, who commissioned many works for her chateaux and gardens. Rococo figures also crowded the later fountains at Versailles, such as the Fountain of Neptune by Lambert-Sigisbert Adam and Nicolas-Sebastien Adam (1740). Based on their success at Versailles, they were invited to Prussia by Frederick the Great to create fountain sculpture for Sanssouci Palace, Prussia (1740s). [40]\n",
      "In Italy, Antonio Corradini was among the leading sculptors of the Rococo style. In the Belvedere Palace in Vienna, (1721-1722), the vaulted ceiling of the Hall of the Atlantes is held up on the shoulders of muscular figures designed by Johann Lukas von Hildebrandt. It was made by Narciso Tomé (1721–32), Its design allows light to pass through, and in changing light it seems to move. The number of European factories grew steadily through the century, and some made porcelain that the expanding middle classes could afford. Common subjects included figures from the commedia dell'arte, city street vendors, lovers and figures in fashionable clothes, and pairs of birds. The Rococo music style itself developed out of baroque music both in France, where the new style was referred to as style galant (\"gallant\" or \"elegant\" style), and in Germany, where it was referred to as empfindsamer Stil (\"sensitive style\"). It can be characterized as light, intimate music with extremely elaborate and refined forms of ornamentation. Bach. In the second half of the 18th century, a reaction against the Rococo style occurred, primarily against its perceived overuse of ornamentation and decoration. Led by Christoph Willibald Gluck, this reaction ushered in the Classical era. [44]\n",
      "Russian composer of the Romantic era Pyotr Ilyich Tchaikovsky wrote The Variations on a Rococo Theme, Op. 33, for cello and orchestra in 1877. Although the theme is not Rococo in origin, it is written in Rococo style. Rococo fashion was based on extravagance, elegance, refinement and decoration. Women's fashion of the seventeenth-century was contrasted by the fashion of the eighteenth-century, which was ornate and sophisticated, the true style of Rococo. [46] The exuberant, playful, elegant style of decoration and design that we now know to be 'Rococo' was then known as le style rocaille, le style moderne, le gout. The colour palette was rich, dark fabrics accompanied by elaborate, heavy design features. The fashion took a turn to a lighter, more frivolous style, transitioning from the baroque period to the well-known style of Rococo. [48] The later period was known for their pastel colours, more revealing frocks, and the plethora of frills, ruffles, bows, and lace as trims. These features originally came from seventeenth-century Spanish fashion, known as guardainfante, initially designed to hide the pregnant stomach, then reimagined later as the pannier. In the 1760s, a style of less formal dresses emerged and one of these was the polonaise, with inspiration taken from Poland. It was shorter than the French dress, allowing the underskirt and ankles to be seen, which made it easier to move around in. Another dress that came into fashion was the robe a l'anglais, which included elements inspired by the males' fashion; a short jacket, broad lapels and long sleeves. Another piece was the 'redingote', halfway between a cape and an overcoat. Accessories were also important to all women during this time, as they added to the opulence and the decor of the body to match their gowns. Allegories of astronomy and geography. ), ca. L′Heureux moment. Chinese God.\n"
     ]
    }
   ],
   "metadata": {}
  }
 ],
 "metadata": {
  "orig_nbformat": 4,
  "language_info": {
   "name": "python",
   "version": "3.8.10",
   "mimetype": "text/x-python",
   "codemirror_mode": {
    "name": "ipython",
    "version": 3
   },
   "pygments_lexer": "ipython3",
   "nbconvert_exporter": "python",
   "file_extension": ".py"
  },
  "kernelspec": {
   "name": "python3",
   "display_name": "Python 3.8.10 64-bit ('venv': venv)"
  },
  "interpreter": {
   "hash": "0963f489bbba766179889d90a7fe2c3a07edb33a4eb126bb496f945774abb214"
  }
 },
 "nbformat": 4,
 "nbformat_minor": 2
}