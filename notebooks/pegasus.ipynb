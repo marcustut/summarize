{
 "cells": [
  {
   "cell_type": "markdown",
   "source": [
    "# Abstractive Text Summarization Using Pegasus\r\n",
    "_By: Ling Li Ya_\r\n",
    "\r\n",
    "References:\r\n",
    "1. [Exploring Pegasus - A New Text Summarization NLP Model](https://signal.onepointltd.com/post/102ghb9/exploring-pegasus-a-new-text-summarization-nlp-model)\r\n",
    "2. [Notebook referred to prepare this notebook](https://colab.research.google.com/drive/1-zq8AJktuC3gQAHTuSiiZ_qvDl4wK7rq#scrollTo=S3PYeeGuda0m)"
   ],
   "metadata": {}
  },
  {
   "cell_type": "markdown",
   "source": [
    "## 1. Install and Import Dependencies\r\n",
    "\r\n",
    "Install `sentencepiece`"
   ],
   "metadata": {}
  },
  {
   "cell_type": "code",
   "execution_count": 1,
   "source": [
    "!pip install sentencepiece"
   ],
   "outputs": [
    {
     "output_type": "stream",
     "name": "stdout",
     "text": [
      "Requirement already satisfied: sentencepiece in c:\\users\\marcus\\projects\\summarize\\venv\\lib\\site-packages (0.1.96)\n"
     ]
    }
   ],
   "metadata": {}
  },
  {
   "cell_type": "markdown",
   "source": [
    "Install `transformers` to use its `summarization pipeline`"
   ],
   "metadata": {}
  },
  {
   "cell_type": "code",
   "execution_count": 2,
   "source": [
    "!pip install transformers"
   ],
   "outputs": [
    {
     "output_type": "stream",
     "name": "stdout",
     "text": [
      "Requirement already satisfied: transformers in c:\\users\\marcus\\projects\\summarize\\venv\\lib\\site-packages (4.9.2)\n",
      "Requirement already satisfied: numpy>=1.17 in c:\\users\\marcus\\projects\\summarize\\venv\\lib\\site-packages (from transformers) (1.19.5)\n",
      "Requirement already satisfied: sacremoses in c:\\users\\marcus\\projects\\summarize\\venv\\lib\\site-packages (from transformers) (0.0.45)\n",
      "Requirement already satisfied: huggingface-hub==0.0.12 in c:\\users\\marcus\\projects\\summarize\\venv\\lib\\site-packages (from transformers) (0.0.12)\n",
      "Requirement already satisfied: pyyaml>=5.1 in c:\\users\\marcus\\projects\\summarize\\venv\\lib\\site-packages (from transformers) (5.4.1)\n",
      "Requirement already satisfied: regex!=2019.12.17 in c:\\users\\marcus\\projects\\summarize\\venv\\lib\\site-packages (from transformers) (2021.8.3)\n",
      "Requirement already satisfied: packaging in c:\\users\\marcus\\projects\\summarize\\venv\\lib\\site-packages (from transformers) (21.0)\n",
      "Requirement already satisfied: tqdm>=4.27 in c:\\users\\marcus\\projects\\summarize\\venv\\lib\\site-packages (from transformers) (4.62.1)\n",
      "Requirement already satisfied: filelock in c:\\users\\marcus\\projects\\summarize\\venv\\lib\\site-packages (from transformers) (3.0.12)\n",
      "Requirement already satisfied: requests in c:\\users\\marcus\\projects\\summarize\\venv\\lib\\site-packages (from transformers) (2.26.0)\n",
      "Requirement already satisfied: tokenizers<0.11,>=0.10.1 in c:\\users\\marcus\\projects\\summarize\\venv\\lib\\site-packages (from transformers) (0.10.3)\n",
      "Requirement already satisfied: typing-extensions in c:\\users\\marcus\\projects\\summarize\\venv\\lib\\site-packages (from huggingface-hub==0.0.12->transformers) (3.7.4.3)\n",
      "Requirement already satisfied: pyparsing>=2.0.2 in c:\\users\\marcus\\projects\\summarize\\venv\\lib\\site-packages (from packaging->transformers) (2.4.7)\n",
      "Requirement already satisfied: colorama in c:\\users\\marcus\\projects\\summarize\\venv\\lib\\site-packages (from tqdm>=4.27->transformers) (0.4.4)\n",
      "Requirement already satisfied: urllib3<1.27,>=1.21.1 in c:\\users\\marcus\\projects\\summarize\\venv\\lib\\site-packages (from requests->transformers) (1.26.6)\n",
      "Requirement already satisfied: charset-normalizer~=2.0.0 in c:\\users\\marcus\\projects\\summarize\\venv\\lib\\site-packages (from requests->transformers) (2.0.4)\n",
      "Requirement already satisfied: idna<4,>=2.5 in c:\\users\\marcus\\projects\\summarize\\venv\\lib\\site-packages (from requests->transformers) (3.2)\n",
      "Requirement already satisfied: certifi>=2017.4.17 in c:\\users\\marcus\\projects\\summarize\\venv\\lib\\site-packages (from requests->transformers) (2021.5.30)\n",
      "Requirement already satisfied: six in c:\\users\\marcus\\projects\\summarize\\venv\\lib\\site-packages (from sacremoses->transformers) (1.15.0)\n",
      "Requirement already satisfied: click in c:\\users\\marcus\\projects\\summarize\\venv\\lib\\site-packages (from sacremoses->transformers) (8.0.1)\n",
      "Requirement already satisfied: joblib in c:\\users\\marcus\\projects\\summarize\\venv\\lib\\site-packages (from sacremoses->transformers) (1.0.1)\n"
     ]
    }
   ],
   "metadata": {}
  },
  {
   "cell_type": "markdown",
   "source": [
    "Install `bs4` to use `BeautifulSoup`"
   ],
   "metadata": {}
  },
  {
   "cell_type": "code",
   "execution_count": 3,
   "source": [
    "!pip install bs4"
   ],
   "outputs": [
    {
     "output_type": "stream",
     "name": "stdout",
     "text": [
      "Requirement already satisfied: bs4 in c:\\users\\marcus\\projects\\summarize\\venv\\lib\\site-packages (0.0.1)\n",
      "Requirement already satisfied: beautifulsoup4 in c:\\users\\marcus\\projects\\summarize\\venv\\lib\\site-packages (from bs4) (4.9.3)\n",
      "Requirement already satisfied: soupsieve>1.2 in c:\\users\\marcus\\projects\\summarize\\venv\\lib\\site-packages (from beautifulsoup4->bs4) (2.2.1)\n"
     ]
    }
   ],
   "metadata": {}
  },
  {
   "cell_type": "markdown",
   "source": [
    "Import all dependencies"
   ],
   "metadata": {}
  },
  {
   "cell_type": "code",
   "execution_count": 4,
   "source": [
    "from transformers import PegasusForConditionalGeneration, PegasusTokenizer, pipeline\r\n",
    "from bs4 import BeautifulSoup\r\n",
    "import torch\r\n",
    "import requests"
   ],
   "outputs": [
    {
     "output_type": "stream",
     "name": "stderr",
     "text": [
      "c:\\Users\\Marcus\\Projects\\summarize\\venv\\lib\\site-packages\\torchaudio\\backend\\utils.py:67: UserWarning: No audio backend is available.\n",
      "  warnings.warn('No audio backend is available.')\n"
     ]
    }
   ],
   "metadata": {}
  },
  {
   "cell_type": "markdown",
   "source": [
    "## 2. Setup Generator\r\n",
    "Deifne and get model"
   ],
   "metadata": {}
  },
  {
   "cell_type": "code",
   "execution_count": 5,
   "source": [
    "model_name = 'google/pegasus-xsum'\r\n",
    "torch_device = 'cuda'\r\n",
    "tokenizer = PegasusTokenizer.from_pretrained(model_name)\r\n",
    "model = PegasusForConditionalGeneration.from_pretrained(model_name)"
   ],
   "outputs": [],
   "metadata": {}
  },
  {
   "cell_type": "markdown",
   "source": [
    "Get pipeline text summarization utility"
   ],
   "metadata": {}
  },
  {
   "cell_type": "code",
   "execution_count": 6,
   "source": [
    "summarizer = pipeline('summarization', model=model, tokenizer=tokenizer)"
   ],
   "outputs": [],
   "metadata": {}
  },
  {
   "cell_type": "markdown",
   "source": [
    "## 3. Process Input Text\r\n",
    "Get input from website URLs"
   ],
   "metadata": {}
  },
  {
   "cell_type": "code",
   "execution_count": 7,
   "source": [
    "URL = 'https://en.wikipedia.org/wiki/Rococo'"
   ],
   "outputs": [],
   "metadata": {}
  },
  {
   "cell_type": "markdown",
   "source": [
    "Get HTTP URL using `requests`"
   ],
   "metadata": {}
  },
  {
   "cell_type": "code",
   "execution_count": 8,
   "source": [
    "r = requests.get(URL)"
   ],
   "outputs": [],
   "metadata": {}
  },
  {
   "cell_type": "markdown",
   "source": [
    "Parse HTML body returned from the URL and format it to have a better readability"
   ],
   "metadata": {}
  },
  {
   "cell_type": "code",
   "execution_count": 9,
   "source": [
    "soup = BeautifulSoup(r.text, 'html.parser')"
   ],
   "outputs": [],
   "metadata": {}
  },
  {
   "cell_type": "code",
   "execution_count": 10,
   "source": [
    "results = soup.find_all(['h1', 'p'])\r\n",
    "results[:3]"
   ],
   "outputs": [
    {
     "output_type": "execute_result",
     "data": {
      "text/plain": [
       "[<h1 class=\"firstHeading\" id=\"firstHeading\">Rococo</h1>,\n",
       " <p class=\"mw-empty-elt\">\n",
       " </p>,\n",
       " <p><b>Rococo</b> (<span class=\"rt-commentedText nowrap\"><span class=\"IPA nopopups noexcerpt\"><a href=\"/wiki/Help:IPA/English\" title=\"Help:IPA/English\">/<span style=\"border-bottom:1px dotted\"><span title=\"'r' in 'rye'\">r</span><span title=\"/ə/: 'a' in 'about'\">ə</span><span title=\"/ˈ/: primary stress follows\">ˈ</span><span title=\"'k' in 'kind'\">k</span><span title=\"/oʊ/: 'o' in 'code'\">oʊ</span><span title=\"'k' in 'kind'\">k</span><span title=\"/oʊ/: 'o' in 'code'\">oʊ</span></span>/</a></span></span>, <small>also</small> <span class=\"rt-commentedText nowrap\"><small><a href=\"/wiki/American_English\" title=\"American English\">US</a>: </small><span class=\"IPA nopopups noexcerpt\"><a href=\"/wiki/Help:IPA/English\" title=\"Help:IPA/English\">/<span style=\"border-bottom:1px dotted\"><span title=\"/ˌ/: secondary stress follows\">ˌ</span><span title=\"'r' in 'rye'\">r</span><span title=\"/oʊ/: 'o' in 'code'\">oʊ</span><span title=\"'k' in 'kind'\">k</span><span title=\"/ə/: 'a' in 'about'\">ə</span><span title=\"/ˈ/: primary stress follows\">ˈ</span><span title=\"'k' in 'kind'\">k</span><span title=\"/oʊ/: 'o' in 'code'\">oʊ</span></span>/</a></span></span>), less commonly <b>Roccoco</b> or <b>Late Baroque</b>, is an exceptionally ornamental and theatrical style of architecture, art and decoration which combines asymmetry, scrolling curves, gilding, white and pastel colors, sculpted molding, and <i><a href=\"/wiki/Trompe-l%27%C5%93il\" title=\"Trompe-l'œil\">trompe-l'œil</a></i> frescoes to create surprise and the illusion of motion and drama.  It is often described as the final expression of the <a class=\"mw-redirect\" href=\"/wiki/Baroque_art\" title=\"Baroque art\">Baroque</a> movement.<sup class=\"reference\" id=\"cite_ref-FOOTNOTEOwens201492_1-0\"><a href=\"#cite_note-FOOTNOTEOwens201492-1\">[1]</a></sup>\n",
       " </p>]"
      ]
     },
     "metadata": {},
     "execution_count": 10
    }
   ],
   "metadata": {}
  },
  {
   "cell_type": "markdown",
   "source": [
    "Text enclosed within the HTML tags are selected and joined together"
   ],
   "metadata": {}
  },
  {
   "cell_type": "code",
   "execution_count": 11,
   "source": [
    "text = [result.text for result in results]\r\n",
    "ARTICLE = ' '.join(text)\r\n",
    "ARTICLE[0:1000]"
   ],
   "outputs": [
    {
     "output_type": "execute_result",
     "data": {
      "text/plain": [
       "\"Rococo \\n Rococo (/rəˈkoʊkoʊ/, also US: /ˌroʊkəˈkoʊ/), less commonly Roccoco or Late Baroque, is an exceptionally ornamental and theatrical style of architecture, art and decoration which combines asymmetry, scrolling curves, gilding, white and pastel colors, sculpted molding, and trompe-l'œil frescoes to create surprise and the illusion of motion and drama.  It is often described as the final expression of the Baroque movement.[1]\\n The Rococo style began in France in the 1730s as a reaction against the more formal and geometric Style Louis XIV. It was known as the style rocaille, or rocaille style.[2] It soon spread to other parts of Europe, particularly northern Italy, Austria, southern Germany, Central Europe and Russia.[3] It also came to influence the other arts, particularly sculpture, furniture, silverware, glassware, painting, music, and theatre.[4] Although originally a secular style primarily used for interiors of private residences the Rococo had a spiritual aspect to it whic\""
      ]
     },
     "metadata": {},
     "execution_count": 11
    }
   ],
   "metadata": {}
  },
  {
   "cell_type": "code",
   "execution_count": 12,
   "source": [
    "src_text = [\r\n",
    "    \"\"\"Rococo (/rəˈkoʊkoʊ/, also US: /ˌroʊkəˈkoʊ/), less commonly Roccoco or Late Baroque, is an exceptionally ornamental and theatrical style of architecture, art and decoration which combines asymmetry, scrolling curves, gilding, white and pastel colors, sculpted molding, and trompe-l'œil frescoes to create surprise and the illusion of motion and drama. It is often described as the final expression of the Baroque movement.[1] The Rococo style began in France in the 1730s as a reaction against the more formal and geometric Style Louis XIV. It was known as the style rocaille, or rocaille style.[2] It soon spread to other parts of Europe, particularly northern Italy, Austria, southern Germany, Central Europe and Russia.[3] It also came to influence the other arts, particularly sculpture, furniture, silverware, glassware, painting, music, and theatre.[4] Although originally a secular style primarily used for interiors of private residences the Rococo had a spiritual aspect to it which led to its widespread use in church interiors, particularly in Central Europe, Portugal, and South America.[5]\"\"\", \"\"\"The word rococo was first used as a humorous variation of the word rocaille.[6][7] Rocaille was originally a method of decoration, using pebbles, seashells and cement, which was often used to decorate grottoes and fountains since the Renaissance.[8][9] In the late 17th and early 18th century rocaille became the term for a kind of decorative motif or ornament that appeared in the late Style Louis XIV, in the form of a seashell interlaced with acanthus leaves. In 1736 the designer and jeweler Jean Mondon published the Premier Livre de forme rocquaille et cartel, a collection of designs for ornaments of furniture and interior decoration. It was the first appearance in print of the term \"rocaille\" to designate the style.[10] The carved or molded seashell motif was combined with palm leaves or twisting vines to decorate doorways, furniture, wall panels and other architectural elements.[11]\"\"\"\r\n",
    "]"
   ],
   "outputs": [],
   "metadata": {}
  },
  {
   "cell_type": "markdown",
   "source": [
    "## 4. Chunk text\r\n",
    "\r\n",
    "Append <eos> to punctuations that marks the end of a sentence\r\n",
    "<br />\r\n",
    "Without the <eos> tag, sentences will be split without any punctuation"
   ],
   "metadata": {}
  },
  {
   "cell_type": "code",
   "execution_count": 13,
   "source": [
    "ARTICLE = ARTICLE.replace('.', '.<eos>')\r\n",
    "ARTICLE = ARTICLE.replace('!', '!<eos>')\r\n",
    "ARTICLE = ARTICLE.replace('?', '?<eos>')\r\n",
    "sentences = ARTICLE.split('<eos>')\r\n",
    "sentences[:10]"
   ],
   "outputs": [
    {
     "output_type": "execute_result",
     "data": {
      "text/plain": [
       "[\"Rococo \\n Rococo (/rəˈkoʊkoʊ/, also US: /ˌroʊkəˈkoʊ/), less commonly Roccoco or Late Baroque, is an exceptionally ornamental and theatrical style of architecture, art and decoration which combines asymmetry, scrolling curves, gilding, white and pastel colors, sculpted molding, and trompe-l'œil frescoes to create surprise and the illusion of motion and drama.\",\n",
       " '  It is often described as the final expression of the Baroque movement.',\n",
       " '[1]\\n The Rococo style began in France in the 1730s as a reaction against the more formal and geometric Style Louis XIV.',\n",
       " ' It was known as the style rocaille, or rocaille style.',\n",
       " '[2] It soon spread to other parts of Europe, particularly northern Italy, Austria, southern Germany, Central Europe and Russia.',\n",
       " '[3] It also came to influence the other arts, particularly sculpture, furniture, silverware, glassware, painting, music, and theatre.',\n",
       " '[4] Although originally a secular style primarily used for interiors of private residences the Rococo had a spiritual aspect to it which led to its widespread use in church interiors, particularly in Central Europe, Portugal, and South America.',\n",
       " '[5]\\n The word rococo was first used as a humorous variation of the word rocaille.',\n",
       " '[6][7] Rocaille was originally a method of decoration, using pebbles, seashells and cement, which was often used to decorate grottoes and fountains since the Renaissance.',\n",
       " '[8][9] In the late 17th and early 18th century rocaille became the term for a kind of decorative motif or ornament that appeared in the late Style Louis XIV, in the form of a seashell interlaced with acanthus leaves.']"
      ]
     },
     "metadata": {},
     "execution_count": 13
    }
   ],
   "metadata": {}
  },
  {
   "cell_type": "markdown",
   "source": [
    "Limit the size of text in a chunk so that it is smaller than 500 words\r\n",
    "<br />\r\n",
    "Split sentences into words (2D array)\r\n",
    "<br />\r\n",
    "This is to avoid the error as shown below\r\n",
    "```py\r\n",
    "Token indices sequence length is longer than the specified maximum sequence length for this model (512). Running this sequence through the model will result in indexing errors.\r\n",
    "```"
   ],
   "metadata": {}
  },
  {
   "cell_type": "code",
   "execution_count": 14,
   "source": [
    "soup = BeautifulSoup(r.text, 'html.parser')"
   ],
   "outputs": [],
   "metadata": {}
  },
  {
   "cell_type": "code",
   "execution_count": 15,
   "source": [
    "max_chunk = 250\r\n",
    "current_chunk = 0\r\n",
    "chunks = []\r\n",
    "\r\n",
    "for sentence in sentences:\r\n",
    "    if len(chunks) == current_chunk + 1:\r\n",
    "        # Check if the chunk is less than 500 words\r\n",
    "        if len(chunks[current_chunk]) + len(sentence.split(' ')) <= max_chunk:\r\n",
    "            chunks[current_chunk].extend(sentence.split(' '))\r\n",
    "        # Next chunk\r\n",
    "        else:\r\n",
    "            current_chunk += 1\r\n",
    "            chunks.append(sentence.split(' '))\r\n",
    "    else:\r\n",
    "        print(current_chunk)\r\n",
    "        chunks.append(sentence.split(' '))\r\n",
    "\r\n",
    "print(\"A total of \" + str(current_chunk + 1) + \" chunks\")\r\n",
    "print(\"A total of \" + str(len(chunks[0])) + \" words in chunk[0]\")"
   ],
   "outputs": [
    {
     "output_type": "stream",
     "name": "stdout",
     "text": [
      "0\n",
      "A total of 26 chunks\n",
      "A total of 212 words in chunk[0]\n"
     ]
    }
   ],
   "metadata": {}
  },
  {
   "cell_type": "markdown",
   "source": [
    "Append words into sentences again where each chunk is ensured to have less than 500 words"
   ],
   "metadata": {}
  },
  {
   "cell_type": "code",
   "execution_count": 16,
   "source": [
    "for chunk_id in range (len(chunks)):\r\n",
    "    chunks[chunk_id] = ' '.join(chunks[chunk_id])\r\n",
    "\r\n",
    "print(\"A total of \" + str(len(chunks[0].split(' '))) + \" words in chunk[0]\")"
   ],
   "outputs": [
    {
     "output_type": "stream",
     "name": "stdout",
     "text": [
      "A total of 212 words in chunk[0]\n"
     ]
    }
   ],
   "metadata": {}
  },
  {
   "cell_type": "markdown",
   "source": [
    "## 5. Summarise Text\r\n",
    "\r\n",
    "Summarise based on each chunk"
   ],
   "metadata": {}
  },
  {
   "cell_type": "code",
   "execution_count": 17,
   "source": [
    "res = summarizer(chunks)\r\n",
    "res"
   ],
   "outputs": [
    {
     "output_type": "stream",
     "name": "stderr",
     "text": [
      "c:\\Users\\Marcus\\Projects\\summarize\\venv\\lib\\site-packages\\torch\\_tensor.py:575: UserWarning: floor_divide is deprecated, and will be removed in a future version of pytorch. It currently rounds toward 0 (like the 'trunc' function NOT 'floor'). This results in incorrect rounding for negative values.\n",
      "To keep the current behavior, use torch.div(a, b, rounding_mode='trunc'), or for actual floor division, use torch.div(a, b, rounding_mode='floor'). (Triggered internally at  ..\\aten\\src\\ATen\\native\\BinaryOps.cpp:467.)\n",
      "  return torch.floor_divide(self, other)\n"
     ]
    },
    {
     "output_type": "execute_result",
     "data": {
      "text/plain": [
       "[{'summary_text': 'The style rococo was first used as a humorous variation of the word rocaille.'},\n",
       " {'summary_text': 'The term rococo was first used in print in 1828 to describe decoration \"which belonged to the style of the 18th century.\"'},\n",
       " {'summary_text': 'A chronology of key events:'},\n",
       " {'summary_text': 'Rocaille was a style of architecture and furniture developed in France in the 17th and 18th centuries.'},\n",
       " {'summary_text': 'All images are copyrighted.'},\n",
       " {'summary_text': 'The Venetian Rococo was one of the most popular styles of decoration in Europe in the 17th and 18th centuries, and was influenced by the French, Italian and German styles.'},\n",
       " {'summary_text': 'In our series of letters from African journalists, film-maker and columnist Farai Sevenzo looks at the influence of French Rococo on German architecture.'},\n",
       " {'summary_text': \"One of the most striking features of the Prince-Bishop's residence in Munich is the stairway.\"},\n",
       " {'summary_text': 'All images are copyrighted.'},\n",
       " {'summary_text': 'The history of British furniture can be traced back to the 17th Century.'},\n",
       " {'summary_text': 'The British Rococo was influenced by the French and Italian styles, as well as by the designs of Thomas Chippendale.'},\n",
       " {'summary_text': 'Charles-Nicolas Vandiéres, a goldsmith from Paris, left France in 1707 to study at the Ecole des Beaux-Arts in Paris.'},\n",
       " {'summary_text': 'The Rococo style of furniture and decorative items was popular in France and Italy in the 17th and 18th centuries.'},\n",
       " {'summary_text': 'The 18th Century was a golden age for French furniture, with the arrival of the Commode, Chinoiserie and ormolu styles.'},\n",
       " {'summary_text': 'The French painters of the 17th and 18th centuries were influenced by the British Rococo painters of the 16th and 17th centuries.'},\n",
       " {'summary_text': 'The Rococo style of painting was popular in France, Italy and Germany in the 17th and 18th centuries.'},\n",
       " {'summary_text': 'All images are copyrighted.'},\n",
       " {'summary_text': 'French sculptors Jean-Louis Lemoyne and Jean-Baptiste Pigalle were among the leading sculptors of the Rococo style.'},\n",
       " {'summary_text': 'All images are copyrighted.'},\n",
       " {'summary_text': 'Porcelain was first produced in Europe in the 17th Century.'},\n",
       " {'summary_text': 'The term \"Rococo\" is often used to refer to a period of music in the 18th and 19th centuries.'},\n",
       " {'summary_text': \"Women's fashion of the seventeenth-century was contrasted by the fashion of the eighteenth-century, which was ornate and sophisticated, the true style of Rococo.\"},\n",
       " {'summary_text': \"The 'pannier' and 'mantua' were two of the most popular styles in French fashion in the 17th and 18th centuries.\"},\n",
       " {'summary_text': \"In the 17th and 18th centuries, women's fashion was influenced by the men's and was often more formal.\"},\n",
       " {'summary_text': 'All images subject to copyright.'},\n",
       " {'summary_text': 'All images subject to copyright.'}]"
      ]
     },
     "metadata": {},
     "execution_count": 17
    }
   ],
   "metadata": {}
  },
  {
   "cell_type": "markdown",
   "source": [
    "## 6. Formatting Text\r\n",
    "Preprocessing: format the `dict` object into a `string`."
   ],
   "metadata": {}
  },
  {
   "cell_type": "code",
   "execution_count": 18,
   "source": [
    "summary = ''\r\n",
    "for result in res:\r\n",
    "    summary += ''.join(str(val.capitalize()) + \"\\n\" for _, val in result.items())\r\n",
    "\r\n",
    "summary = summary.replace(' .', '.')\r\n",
    "summary = summary.replace(\" !\", \"!\")\r\n",
    "summary = summary.replace(\" ?\", \"?\")"
   ],
   "outputs": [],
   "metadata": {}
  },
  {
   "cell_type": "markdown",
   "source": [
    "## 7. Results\r\n",
    "\r\n",
    "Some statistics and the final result."
   ],
   "metadata": {}
  },
  {
   "cell_type": "code",
   "execution_count": 19,
   "source": [
    "words_after = len(summary.split(' '))\r\n",
    "words_before = len(src_text[0].split(' '))\r\n",
    "reduced_by = (words_before - words_after) / words_before * 100\r\n",
    "\r\n",
    "print(\"Number of words in summary: \" + str(words_after))\r\n",
    "print(\"Number of words in original article: \" + str(words_before))\r\n",
    "print(\"Reduced by: \" + str(round(reduced_by, 2)) + \"%\\n\")\r\n",
    "print(summary)"
   ],
   "outputs": [
    {
     "output_type": "stream",
     "name": "stdout",
     "text": [
      "Number of words in summary: 365\n",
      "Number of words in original article: 163\n",
      "Reduced by: -123.93%\n",
      "\n",
      "The style rococo was first used as a humorous variation of the word rocaille.\n",
      "The term rococo was first used in print in 1828 to describe decoration \"which belonged to the style of the 18th century.\"\n",
      "A chronology of key events:\n",
      "Rocaille was a style of architecture and furniture developed in france in the 17th and 18th centuries.\n",
      "All images are copyrighted.\n",
      "The venetian rococo was one of the most popular styles of decoration in europe in the 17th and 18th centuries, and was influenced by the french, italian and german styles.\n",
      "In our series of letters from african journalists, film-maker and columnist farai sevenzo looks at the influence of french rococo on german architecture.\n",
      "One of the most striking features of the prince-bishop's residence in munich is the stairway.\n",
      "All images are copyrighted.\n",
      "The history of british furniture can be traced back to the 17th century.\n",
      "The british rococo was influenced by the french and italian styles, as well as by the designs of thomas chippendale.\n",
      "Charles-nicolas vandiéres, a goldsmith from paris, left france in 1707 to study at the ecole des beaux-arts in paris.\n",
      "The rococo style of furniture and decorative items was popular in france and italy in the 17th and 18th centuries.\n",
      "The 18th century was a golden age for french furniture, with the arrival of the commode, chinoiserie and ormolu styles.\n",
      "The french painters of the 17th and 18th centuries were influenced by the british rococo painters of the 16th and 17th centuries.\n",
      "The rococo style of painting was popular in france, italy and germany in the 17th and 18th centuries.\n",
      "All images are copyrighted.\n",
      "French sculptors jean-louis lemoyne and jean-baptiste pigalle were among the leading sculptors of the rococo style.\n",
      "All images are copyrighted.\n",
      "Porcelain was first produced in europe in the 17th century.\n",
      "The term \"rococo\" is often used to refer to a period of music in the 18th and 19th centuries.\n",
      "Women's fashion of the seventeenth-century was contrasted by the fashion of the eighteenth-century, which was ornate and sophisticated, the true style of rococo.\n",
      "The 'pannier' and 'mantua' were two of the most popular styles in french fashion in the 17th and 18th centuries.\n",
      "In the 17th and 18th centuries, women's fashion was influenced by the men's and was often more formal.\n",
      "All images subject to copyright.\n",
      "All images subject to copyright.\n",
      "\n"
     ]
    }
   ],
   "metadata": {}
  }
 ],
 "metadata": {
  "orig_nbformat": 4,
  "language_info": {
   "name": "python",
   "version": "3.8.10",
   "mimetype": "text/x-python",
   "codemirror_mode": {
    "name": "ipython",
    "version": 3
   },
   "pygments_lexer": "ipython3",
   "nbconvert_exporter": "python",
   "file_extension": ".py"
  },
  "kernelspec": {
   "name": "python3",
   "display_name": "Python 3.8.10 64-bit ('venv': venv)"
  },
  "interpreter": {
   "hash": "0963f489bbba766179889d90a7fe2c3a07edb33a4eb126bb496f945774abb214"
  }
 },
 "nbformat": 4,
 "nbformat_minor": 2
}