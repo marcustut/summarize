{
 "cells": [
  {
   "cell_type": "markdown",
   "source": [
    "# Abstractive Text Summarization Using Pegasus\r\n",
    "_By: Ling Li Ya_\r\n",
    "\r\n",
    "References:\r\n",
    "1. [Exploring Pegasus - A New Text Summarization NLP Model](https://signal.onepointltd.com/post/102ghb9/exploring-pegasus-a-new-text-summarization-nlp-model)\r\n",
    "2. [Notebook referred to prepare this notebook](https://colab.research.google.com/drive/1-zq8AJktuC3gQAHTuSiiZ_qvDl4wK7rq#scrollTo=S3PYeeGuda0m)"
   ],
   "metadata": {}
  },
  {
   "cell_type": "markdown",
   "source": [
    "## 1. Install and Import Dependencies"
   ],
   "metadata": {}
  },
  {
   "cell_type": "code",
   "execution_count": 17,
   "source": [
    "!pip install sentencepiece"
   ],
   "outputs": [
    {
     "output_type": "stream",
     "name": "stdout",
     "text": [
      "Requirement already satisfied: sentencepiece in c:\\users\\marcus\\projects\\summarize\\venv\\lib\\site-packages (0.1.96)\n"
     ]
    }
   ],
   "metadata": {}
  },
  {
   "cell_type": "code",
   "execution_count": 18,
   "source": [
    "!pip install transformers"
   ],
   "outputs": [
    {
     "output_type": "stream",
     "name": "stdout",
     "text": [
      "Requirement already satisfied: transformers in c:\\users\\marcus\\projects\\summarize\\venv\\lib\\site-packages (4.9.2)\n",
      "Requirement already satisfied: requests in c:\\users\\marcus\\projects\\summarize\\venv\\lib\\site-packages (from transformers) (2.26.0)\n",
      "Requirement already satisfied: numpy>=1.17 in c:\\users\\marcus\\projects\\summarize\\venv\\lib\\site-packages (from transformers) (1.19.5)\n",
      "Requirement already satisfied: pyyaml>=5.1 in c:\\users\\marcus\\projects\\summarize\\venv\\lib\\site-packages (from transformers) (5.4.1)\n",
      "Requirement already satisfied: huggingface-hub==0.0.12 in c:\\users\\marcus\\projects\\summarize\\venv\\lib\\site-packages (from transformers) (0.0.12)\n",
      "Requirement already satisfied: packaging in c:\\users\\marcus\\projects\\summarize\\venv\\lib\\site-packages (from transformers) (21.0)\n",
      "Requirement already satisfied: sacremoses in c:\\users\\marcus\\projects\\summarize\\venv\\lib\\site-packages (from transformers) (0.0.45)\n",
      "Requirement already satisfied: tqdm>=4.27 in c:\\users\\marcus\\projects\\summarize\\venv\\lib\\site-packages (from transformers) (4.62.1)\n",
      "Requirement already satisfied: tokenizers<0.11,>=0.10.1 in c:\\users\\marcus\\projects\\summarize\\venv\\lib\\site-packages (from transformers) (0.10.3)\n",
      "Requirement already satisfied: filelock in c:\\users\\marcus\\projects\\summarize\\venv\\lib\\site-packages (from transformers) (3.0.12)\n",
      "Requirement already satisfied: regex!=2019.12.17 in c:\\users\\marcus\\projects\\summarize\\venv\\lib\\site-packages (from transformers) (2021.8.3)\n",
      "Requirement already satisfied: typing-extensions in c:\\users\\marcus\\projects\\summarize\\venv\\lib\\site-packages (from huggingface-hub==0.0.12->transformers) (3.7.4.3)\n",
      "Requirement already satisfied: pyparsing>=2.0.2 in c:\\users\\marcus\\projects\\summarize\\venv\\lib\\site-packages (from packaging->transformers) (2.4.7)\n",
      "Requirement already satisfied: colorama in c:\\users\\marcus\\projects\\summarize\\venv\\lib\\site-packages (from tqdm>=4.27->transformers) (0.4.4)\n",
      "Requirement already satisfied: idna<4,>=2.5 in c:\\users\\marcus\\projects\\summarize\\venv\\lib\\site-packages (from requests->transformers) (3.2)\n",
      "Requirement already satisfied: certifi>=2017.4.17 in c:\\users\\marcus\\projects\\summarize\\venv\\lib\\site-packages (from requests->transformers) (2021.5.30)\n",
      "Requirement already satisfied: charset-normalizer~=2.0.0 in c:\\users\\marcus\\projects\\summarize\\venv\\lib\\site-packages (from requests->transformers) (2.0.4)\n",
      "Requirement already satisfied: urllib3<1.27,>=1.21.1 in c:\\users\\marcus\\projects\\summarize\\venv\\lib\\site-packages (from requests->transformers) (1.26.6)\n",
      "Requirement already satisfied: click in c:\\users\\marcus\\projects\\summarize\\venv\\lib\\site-packages (from sacremoses->transformers) (8.0.1)\n",
      "Requirement already satisfied: joblib in c:\\users\\marcus\\projects\\summarize\\venv\\lib\\site-packages (from sacremoses->transformers) (1.0.1)\n",
      "Requirement already satisfied: six in c:\\users\\marcus\\projects\\summarize\\venv\\lib\\site-packages (from sacremoses->transformers) (1.15.0)\n"
     ]
    }
   ],
   "metadata": {}
  },
  {
   "cell_type": "code",
   "execution_count": 1,
   "source": [
    "from transformers import PegasusForConditionalGeneration, PegasusTokenizer, pipeline\r\n",
    "from bs4 import BeautifulSoup\r\n",
    "import torch"
   ],
   "outputs": [
    {
     "output_type": "stream",
     "name": "stderr",
     "text": [
      "C:\\Users\\liana\\AppData\\Local\\Programs\\Python\\Python38\\lib\\site-packages\\torchaudio\\backend\\utils.py:67: UserWarning: No audio backend is available.\n",
      "  warnings.warn('No audio backend is available.')\n"
     ]
    }
   ],
   "metadata": {}
  },
  {
   "cell_type": "markdown",
   "source": [
    "## 2. Create Model"
   ],
   "metadata": {}
  },
  {
   "cell_type": "code",
   "execution_count": 2,
   "source": [
    "# model_name = 'google/pegasus-xsum'\r\n",
    "# torch_device = 'cuda' if torch.cuda.is_available() else 'cpu'\r\n",
    "# tokenizer = PegasusTokenizer.from_pretrained(model_name)\r\n",
    "# model = PegasusForConditionalGeneration.from_pretrained(model_name).to(torch_device)"
   ],
   "outputs": [],
   "metadata": {}
  },
  {
   "cell_type": "code",
   "execution_count": 3,
   "source": [
    "model_name = 'google/pegasus-xsum'\r\n",
    "torch_device = 'cuda'\r\n",
    "tokenizer = PegasusTokenizer.from_pretrained(model_name)\r\n",
    "model = PegasusForConditionalGeneration.from_pretrained(model_name)"
   ],
   "outputs": [],
   "metadata": {}
  },
  {
   "cell_type": "code",
   "execution_count": 4,
   "source": [
    "src_text = [\r\n",
    "    \"\"\"Rococo (/rəˈkoʊkoʊ/, also US: /ˌroʊkəˈkoʊ/), less commonly Roccoco or Late Baroque, is an exceptionally ornamental and theatrical style of architecture, art and decoration which combines asymmetry, scrolling curves, gilding, white and pastel colors, sculpted molding, and trompe-l'œil frescoes to create surprise and the illusion of motion and drama. It is often described as the final expression of the Baroque movement.[1] The Rococo style began in France in the 1730s as a reaction against the more formal and geometric Style Louis XIV. It was known as the style rocaille, or rocaille style.[2] It soon spread to other parts of Europe, particularly northern Italy, Austria, southern Germany, Central Europe and Russia.[3] It also came to influence the other arts, particularly sculpture, furniture, silverware, glassware, painting, music, and theatre.[4] Although originally a secular style primarily used for interiors of private residences the Rococo had a spiritual aspect to it which led to its widespread use in church interiors, particularly in Central Europe, Portugal, and South America.[5]\"\"\", \"\"\"The word rococo was first used as a humorous variation of the word rocaille.[6][7] Rocaille was originally a method of decoration, using pebbles, seashells and cement, which was often used to decorate grottoes and fountains since the Renaissance.[8][9] In the late 17th and early 18th century rocaille became the term for a kind of decorative motif or ornament that appeared in the late Style Louis XIV, in the form of a seashell interlaced with acanthus leaves. In 1736 the designer and jeweler Jean Mondon published the Premier Livre de forme rocquaille et cartel, a collection of designs for ornaments of furniture and interior decoration. It was the first appearance in print of the term \"rocaille\" to designate the style.[10] The carved or molded seashell motif was combined with palm leaves or twisting vines to decorate doorways, furniture, wall panels and other architectural elements.[11]\"\"\"\r\n",
    "]"
   ],
   "outputs": [],
   "metadata": {}
  },
  {
   "cell_type": "code",
   "execution_count": 5,
   "source": [
    "# batch = tokenizer.prepare_seq2seq_batch(src_text, truncation=True, padding='longest').to(torch_device)\r\n",
    "# translated = model.generate(**batch)\r\n",
    "# tgt_text = tokenizer.batch_decode(translated, skip_special_tokens=True)\r\n",
    "# print(tgt_text)"
   ],
   "outputs": [],
   "metadata": {}
  },
  {
   "cell_type": "code",
   "execution_count": 7,
   "source": [
    "summarizer = pipeline('summarization', model=model, tokenizer=tokenizer)\r\n",
    "res = summarizer(src_text[0], min_length=40, max_length=60)"
   ],
   "outputs": [
    {
     "output_type": "stream",
     "name": "stderr",
     "text": [
      "C:\\Users\\liana\\AppData\\Local\\Programs\\Python\\Python38\\lib\\site-packages\\torch\\_tensor.py:575: UserWarning: floor_divide is deprecated, and will be removed in a future version of pytorch. It currently rounds toward 0 (like the 'trunc' function NOT 'floor'). This results in incorrect rounding for negative values.\n",
      "To keep the current behavior, use torch.div(a, b, rounding_mode='trunc'), or for actual floor division, use torch.div(a, b, rounding_mode='floor'). (Triggered internally at  ..\\aten\\src\\ATen\\native\\BinaryOps.cpp:467.)\n",
      "  return torch.floor_divide(self, other)\n"
     ]
    }
   ],
   "metadata": {}
  },
  {
   "cell_type": "markdown",
   "source": [
    "Format the `dict` object into a `string`."
   ],
   "metadata": {}
  },
  {
   "cell_type": "code",
   "execution_count": 8,
   "source": [
    "summary = ''\r\n",
    "for result in res:\r\n",
    "    summary += ''.join(str(val.capitalize()) + \"\\n\" for _, val in result.items())\r\n",
    "\r\n",
    "summary = summary.replace(' .', '.')\r\n",
    "summary = summary.replace(\" !\", \"!\")\r\n",
    "summary = summary.replace(\" ?\", \"?\")"
   ],
   "outputs": [],
   "metadata": {}
  },
  {
   "cell_type": "markdown",
   "source": [
    "Some statistics and the final result."
   ],
   "metadata": {}
  },
  {
   "cell_type": "code",
   "execution_count": 16,
   "source": [
    "words_after = len(summary.split(' '))\r\n",
    "words_before = len(src_text[0].split(' '))\r\n",
    "reduced_by = (words_before - words_after) / words_before * 100\r\n",
    "\r\n",
    "print(\"Number of words in summary: \" + str(words_after))\r\n",
    "print(\"Number of words in original article: \" + str(words_before))\r\n",
    "print(\"Reduced by: \" + str(round(reduced_by, 2)) + \"%\\n\")\r\n",
    "print(summary)"
   ],
   "outputs": [
    {
     "output_type": "stream",
     "name": "stdout",
     "text": [
      "Number of words in summary: 35\n",
      "Number of words in original article: 163\n",
      "Reduced by: 78.53%\n",
      "\n",
      "The style is often described as the final expression of the baroque movement and is often described as the final expression of the style rocaille (/rkoko/, also us: /rokko/), less commonly roccoco or late baroque,\n",
      "\n"
     ]
    }
   ],
   "metadata": {}
  }
 ],
 "metadata": {
  "orig_nbformat": 4,
  "language_info": {
   "name": "python",
   "version": "3.8.10",
   "mimetype": "text/x-python",
   "codemirror_mode": {
    "name": "ipython",
    "version": 3
   },
   "pygments_lexer": "ipython3",
   "nbconvert_exporter": "python",
   "file_extension": ".py"
  },
  "kernelspec": {
   "name": "python3",
   "display_name": "Python 3.8.10 64-bit"
  },
  "interpreter": {
   "hash": "37833eaa7c79fc29fc64cdd65cef9244dd84f1f67a5ba8cd87f16f157512cb2c"
  }
 },
 "nbformat": 4,
 "nbformat_minor": 2
}